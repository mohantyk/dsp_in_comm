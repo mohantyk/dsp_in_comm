{
 "cells": [
  {
   "cell_type": "code",
   "execution_count": 1,
   "metadata": {},
   "outputs": [],
   "source": [
    "import numpy as np\n",
    "from numpy import pi, cos, sin, array"
   ]
  },
  {
   "cell_type": "code",
   "execution_count": 2,
   "metadata": {},
   "outputs": [],
   "source": [
    "import matplotlib.pyplot as plt\n",
    "plt.style.use('dark_background')\n",
    "np.set_printoptions(precision=4, suppress=True)"
   ]
  },
  {
   "cell_type": "code",
   "execution_count": 3,
   "metadata": {},
   "outputs": [],
   "source": [
    "from warnings import filterwarnings\n",
    "filterwarnings('ignore', category=UserWarning)"
   ]
  },
  {
   "cell_type": "markdown",
   "metadata": {},
   "source": [
    "## Curve Fitting"
   ]
  },
  {
   "cell_type": "code",
   "execution_count": 4,
   "metadata": {},
   "outputs": [
    {
     "data": {
      "text/plain": [
       "array([10.1039,  0.9432, -0.01  , -0.0004])"
      ]
     },
     "execution_count": 4,
     "metadata": {},
     "output_type": "execute_result"
    }
   ],
   "source": [
    "input_dbm = array([-10, -5, 0, 5, 10, 15, 20, 25])\n",
    "output_dbm = array([0, 5.5, 10, 14, 18.5, 21, 21, 21])\n",
    "ones = np.ones_like(input_dbm)\n",
    "\n",
    "F = np.column_stack([ones, input_dbm, input_dbm**2, input_dbm**3])\n",
    "A = np.linalg.inv(F.T@F)@F.T@output_dbm\n",
    "\n",
    "input_range = np.arange(-10, 25, 0.1)\n",
    "curve_fit = A[0] + A[1]*input_range + A[2]*input_range**2 + A[3]*input_range**3\n",
    "new_curve_fit = np.column_stack\n",
    "\n",
    "A"
   ]
  },
  {
   "cell_type": "code",
   "execution_count": 5,
   "metadata": {},
   "outputs": [
    {
     "name": "stdout",
     "output_type": "stream",
     "text": [
      "Max difference in coeffs: 0.0000\n",
      "Max difference in curvefit: -0.0000\n"
     ]
    },
    {
     "data": {
      "text/plain": [
       "array([10.1039,  0.9432, -0.01  , -0.0004])"
      ]
     },
     "execution_count": 5,
     "metadata": {},
     "output_type": "execute_result"
    }
   ],
   "source": [
    "# Solve using numpy\n",
    "A_prime = np.polyfit(input_dbm, output_dbm, 3)\n",
    "curve_fit_new = np.polyval(A_prime, input_range)\n",
    "\n",
    "print(f'Max difference in coeffs: {np.max(A-A_prime[::-1]):.4f}')\n",
    "print(f'Max difference in curvefit: {np.max(curve_fit - curve_fit_new):.4f}')\n",
    "A_prime[::-1]"
   ]
  },
  {
   "cell_type": "code",
   "execution_count": 6,
   "metadata": {},
   "outputs": [
    {
     "data": {
      "image/png": "[encoded data removed]",
      "text/plain": [
       "<Figure size 432x288 with 1 Axes>"
      ]
     },
     "metadata": {
      "needs_background": "dark"
     },
     "output_type": "display_data"
    }
   ],
   "source": [
    "plt.plot(input_range, curve_fit)\n",
    "plt.plot(input_dbm, output_dbm, 'o');"
   ]
  },
  {
   "cell_type": "code",
   "execution_count": null,
   "metadata": {},
   "outputs": [],
   "source": []
  }
 ],
 "metadata": {
  "kernelspec": {
   "display_name": "Python 3",
   "language": "python",
   "name": "python3"
  },
  "language_info": {
   "codemirror_mode": {
    "name": "ipython",
    "version": 3
   },
   "file_extension": ".py",
   "mimetype": "text/x-python",
   "name": "python",
   "nbconvert_exporter": "python",
   "pygments_lexer": "ipython3",
   "version": "3.7.4"
  }
 },
 "nbformat": 4,
 "nbformat_minor": 4
}
