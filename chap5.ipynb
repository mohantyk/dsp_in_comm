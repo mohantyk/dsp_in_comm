{
 "cells": [
  {
   "cell_type": "markdown",
   "metadata": {},
   "source": [
    "## Imports"
   ]
  },
  {
   "cell_type": "code",
   "execution_count": 1,
   "metadata": {},
   "outputs": [],
   "source": [
    "import numpy as np\n",
    "from numpy import pi, cos, sin, array, exp"
   ]
  },
  {
   "cell_type": "code",
   "execution_count": 2,
   "metadata": {},
   "outputs": [],
   "source": [
    "from scipy import signal"
   ]
  },
  {
   "cell_type": "code",
   "execution_count": 3,
   "metadata": {},
   "outputs": [],
   "source": [
    "import matplotlib.pyplot as plt\n",
    "plt.style.use('dark_background')\n",
    "np.set_printoptions(precision=3, suppress=True)"
   ]
  },
  {
   "cell_type": "code",
   "execution_count": 4,
   "metadata": {},
   "outputs": [],
   "source": [
    "import warnings\n",
    "from warnings import filterwarnings\n",
    "filterwarnings('ignore', category=UserWarning)"
   ]
  },
  {
   "cell_type": "markdown",
   "metadata": {},
   "source": [
    "## Modulation model"
   ]
  },
  {
   "cell_type": "markdown",
   "metadata": {},
   "source": [
    "#### Symbol mapping"
   ]
  },
  {
   "cell_type": "code",
   "execution_count": 5,
   "metadata": {},
   "outputs": [],
   "source": [
    "class Mapper:\n",
    "    \n",
    "    def __init__(self):\n",
    "        self.BPSK_LUT = array([-1 -1j, 1 + 1j])/np.sqrt(2)\n",
    "        self.QPSK_LUT = array([-1-1j, -1+1j, 1-1j, 1+1j])/np.sqrt(2)\n",
    "        self.PSK8_LUT = array([exp(3j*pi/4), -1, 1j, exp(1j*pi/4), \n",
    "                               -1j, exp(-3j*pi/4), exp(-1j*pi/4), 1])\n",
    "        # The scaling factor for 16QAM is sqrt(10), \n",
    "        # since avg_power = [4*2 + 8*10 + 4*18]/16 = 10\n",
    "        # Also the LUT for 16QAM in the book matlab code has an error\n",
    "        self.QAM16_LUT = array([-3-3j, -3-1j, -3+3j, -3+1j,\n",
    "                                -1-3j, -1-1j, -1+3j, -1+1j,\n",
    "                                 3-3j, 3-1j, 3+3j, 3+1j,\n",
    "                                 1-3j, 1-1j, 1+3j, 1-1j])/np.sqrt(10)\n",
    "        \n",
    "    def convert_bit_array_to_int(self, array_of_bits):\n",
    "        '''\n",
    "        >>> convert_bit_array_to_int(  np.array([0, 1, 1, 0]) )\n",
    "        6\n",
    "        '''\n",
    "        bit_str = np.array2string(array_of_bits, separator='')[1:-1] #Sliced to remove brackets\n",
    "        return int(bit_str, 2)\n",
    "    \n",
    "    \n",
    "    def convert_to_symbols(self, bitstream, bits_in_symbol, LUT):\n",
    "        num_symbols = len(bitstream)//bits_in_symbol\n",
    "        truncated_bitstream = bitstream[:num_symbols*bits_in_symbol]\n",
    "        \n",
    "        if len(truncated_bitstream) != len(bitstream):\n",
    "            print(f'Truncating {len(bitstream) - len(truncated_bitstream)} bits at the end.')\n",
    "        \n",
    "        symbol_bits = np.split(truncated_bitstream, num_symbols) # list of sub-arrays\n",
    "        symbols = array( [LUT[self.convert_bit_array_to_int(bits)]\n",
    "                          for bits in symbol_bits] )\n",
    "        return symbols\n",
    "        \n",
    "        \n",
    "    def bpsk(self, bitstream):\n",
    "        return self.convert_to_symbols(bitstream, bits_in_symbol=1, LUT=self.BPSK_LUT)\n",
    "    \n",
    "    def qpsk(self, bitstream):\n",
    "        return self.convert_to_symbols(bitstream, bits_in_symbol=2, LUT=self.QPSK_LUT)\n",
    "    \n",
    "    def psk8(self, bitstream):\n",
    "        return self.convert_to_symbols(bitstream, bits_in_symbol=3, LUT=self.PSK8_LUT)\n",
    "    \n",
    "    def qam16(self, bitstream):\n",
    "        return self.convert_to_symbols(bitstream, bits_in_symbol=4, LUT=self.QAM16_LUT)\n",
    "\n",
    "    \n",
    "# Create a modulator\n",
    "mapper = Mapper()"
   ]
  },
  {
   "cell_type": "code",
   "execution_count": 6,
   "metadata": {},
   "outputs": [
    {
     "name": "stdout",
     "output_type": "stream",
     "text": [
      "Bits: [1 0 0 0 1 1 1 0 1 1]\n",
      "QPSK symbols: [ 1.-1.j -1.-1.j  1.+1.j  1.-1.j  1.+1.j]\n"
     ]
    }
   ],
   "source": [
    "random_bits = np.random.choice([0, 1], 10)\n",
    "print('Bits: {}'.format(random_bits))\n",
    "\n",
    "qpsk = mapper.qpsk(random_bits)\n",
    "print('QPSK symbols: {}'.format(qpsk*np.sqrt(2)))"
   ]
  },
  {
   "cell_type": "markdown",
   "metadata": {},
   "source": [
    "#### Waveform "
   ]
  },
  {
   "cell_type": "code",
   "execution_count": 7,
   "metadata": {},
   "outputs": [
    {
     "data": {
      "image/png": "[encoded data removed]",
      "text/plain": [
       "<Figure size 432x288 with 1 Axes>"
      ]
     },
     "metadata": {
      "needs_background": "dark"
     },
     "output_type": "display_data"
    }
   ],
   "source": [
    "def rcosine(osr, β):\n",
    "    # All calculations are normalized by T\n",
    "    duration = (-3, 3)\n",
    "    N = osr*(duration[1] - duration[0]) + 1\n",
    "    t = np.linspace(*duration, N)\n",
    "    with warnings.catch_warnings():\n",
    "        warnings.simplefilter('ignore') # For Divide by zero\n",
    "        rcos_filt = np.sinc(t) * cos(pi*β*t) / (1-(2*β*t)**2)\n",
    "    rcos_filt[np.isinf(rcos_filt)] = (pi/4)*np.sinc(1/(2*β))\n",
    "    return rcos_filt\n",
    "\n",
    "plt.stem(rcosine(4, 0.5));"
   ]
  },
  {
   "cell_type": "code",
   "execution_count": 8,
   "metadata": {},
   "outputs": [],
   "source": [
    "def zero_stuff(symbols, osr):\n",
    "    num_symbols = len(symbols)\n",
    "    sample_stream = np.zeros(num_symbols * osr, complex)\n",
    "    sample_stream[::osr] = symbols\n",
    "    return sample_stream\n",
    "\n",
    "def waveform_mapping(symbols, osr=4, beta=0.5):\n",
    "    sample_stream = zero_stuff(symbols, osr)\n",
    "    pulse = rcosine(osr, beta)\n",
    "    output_samples = signal.lfilter(pulse, 1, sample_stream)\n",
    "    return output_samples"
   ]
  },
  {
   "cell_type": "code",
   "execution_count": null,
   "metadata": {},
   "outputs": [],
   "source": []
  }
 ],
 "metadata": {
  "kernelspec": {
   "display_name": "Python 3",
   "language": "python",
   "name": "python3"
  },
  "language_info": {
   "codemirror_mode": {
    "name": "ipython",
    "version": 3
   },
   "file_extension": ".py",
   "mimetype": "text/x-python",
   "name": "python",
   "nbconvert_exporter": "python",
   "pygments_lexer": "ipython3",
   "version": "3.7.4"
  }
 },
 "nbformat": 4,
 "nbformat_minor": 4
}
